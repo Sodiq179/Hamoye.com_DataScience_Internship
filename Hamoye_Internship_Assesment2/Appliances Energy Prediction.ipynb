{
 "cells": [
  {
   "cell_type": "markdown",
   "id": "b1890b3a",
   "metadata": {},
   "source": [
    "### Importing Libraries"
   ]
  },
  {
   "cell_type": "code",
   "execution_count": 1,
   "id": "dd5ba573",
   "metadata": {},
   "outputs": [],
   "source": [
    "import numpy as np\n",
    "import pandas as pd\n",
    "import matplotlib.pyplot as plt\n",
    "\n",
    "from sklearn.linear_model import LinearRegression, Ridge, Lasso\n",
    "from sklearn.preprocessing import MinMaxScaler\n",
    "from sklearn.model_selection import train_test_split\n",
    "\n",
    "from sklearn.metrics import r2_score, mean_absolute_error, mean_squared_error\n",
    "\n",
    "import warnings\n",
    "warnings.filterwarnings('ignore')"
   ]
  },
  {
   "cell_type": "markdown",
   "id": "f40c36cb",
   "metadata": {},
   "source": [
    "### Reading Dataset"
   ]
  },
  {
   "cell_type": "code",
   "execution_count": 2,
   "id": "e9d7d609",
   "metadata": {},
   "outputs": [],
   "source": [
    "data = pd.read_csv('energydata_complete.csv')"
   ]
  },
  {
   "cell_type": "code",
   "execution_count": 3,
   "id": "2bb8d5f5",
   "metadata": {},
   "outputs": [
    {
     "data": {
      "text/html": [
       "<div>\n",
       "<style scoped>\n",
       "    .dataframe tbody tr th:only-of-type {\n",
       "        vertical-align: middle;\n",
       "    }\n",
       "\n",
       "    .dataframe tbody tr th {\n",
       "        vertical-align: top;\n",
       "    }\n",
       "\n",
       "    .dataframe thead th {\n",
       "        text-align: right;\n",
       "    }\n",
       "</style>\n",
       "<table border=\"1\" class=\"dataframe\">\n",
       "  <thead>\n",
       "    <tr style=\"text-align: right;\">\n",
       "      <th></th>\n",
       "      <th>date</th>\n",
       "      <th>Appliances</th>\n",
       "      <th>lights</th>\n",
       "      <th>T1</th>\n",
       "      <th>RH_1</th>\n",
       "      <th>T2</th>\n",
       "      <th>RH_2</th>\n",
       "      <th>T3</th>\n",
       "      <th>RH_3</th>\n",
       "      <th>T4</th>\n",
       "      <th>...</th>\n",
       "      <th>T9</th>\n",
       "      <th>RH_9</th>\n",
       "      <th>T_out</th>\n",
       "      <th>Press_mm_hg</th>\n",
       "      <th>RH_out</th>\n",
       "      <th>Windspeed</th>\n",
       "      <th>Visibility</th>\n",
       "      <th>Tdewpoint</th>\n",
       "      <th>rv1</th>\n",
       "      <th>rv2</th>\n",
       "    </tr>\n",
       "  </thead>\n",
       "  <tbody>\n",
       "    <tr>\n",
       "      <th>0</th>\n",
       "      <td>2016-01-11 17:00:00</td>\n",
       "      <td>60</td>\n",
       "      <td>30</td>\n",
       "      <td>19.89</td>\n",
       "      <td>47.596667</td>\n",
       "      <td>19.2</td>\n",
       "      <td>44.790000</td>\n",
       "      <td>19.79</td>\n",
       "      <td>44.730000</td>\n",
       "      <td>19.000000</td>\n",
       "      <td>...</td>\n",
       "      <td>17.033333</td>\n",
       "      <td>45.53</td>\n",
       "      <td>6.600000</td>\n",
       "      <td>733.5</td>\n",
       "      <td>92.0</td>\n",
       "      <td>7.000000</td>\n",
       "      <td>63.000000</td>\n",
       "      <td>5.3</td>\n",
       "      <td>13.275433</td>\n",
       "      <td>13.275433</td>\n",
       "    </tr>\n",
       "    <tr>\n",
       "      <th>1</th>\n",
       "      <td>2016-01-11 17:10:00</td>\n",
       "      <td>60</td>\n",
       "      <td>30</td>\n",
       "      <td>19.89</td>\n",
       "      <td>46.693333</td>\n",
       "      <td>19.2</td>\n",
       "      <td>44.722500</td>\n",
       "      <td>19.79</td>\n",
       "      <td>44.790000</td>\n",
       "      <td>19.000000</td>\n",
       "      <td>...</td>\n",
       "      <td>17.066667</td>\n",
       "      <td>45.56</td>\n",
       "      <td>6.483333</td>\n",
       "      <td>733.6</td>\n",
       "      <td>92.0</td>\n",
       "      <td>6.666667</td>\n",
       "      <td>59.166667</td>\n",
       "      <td>5.2</td>\n",
       "      <td>18.606195</td>\n",
       "      <td>18.606195</td>\n",
       "    </tr>\n",
       "    <tr>\n",
       "      <th>2</th>\n",
       "      <td>2016-01-11 17:20:00</td>\n",
       "      <td>50</td>\n",
       "      <td>30</td>\n",
       "      <td>19.89</td>\n",
       "      <td>46.300000</td>\n",
       "      <td>19.2</td>\n",
       "      <td>44.626667</td>\n",
       "      <td>19.79</td>\n",
       "      <td>44.933333</td>\n",
       "      <td>18.926667</td>\n",
       "      <td>...</td>\n",
       "      <td>17.000000</td>\n",
       "      <td>45.50</td>\n",
       "      <td>6.366667</td>\n",
       "      <td>733.7</td>\n",
       "      <td>92.0</td>\n",
       "      <td>6.333333</td>\n",
       "      <td>55.333333</td>\n",
       "      <td>5.1</td>\n",
       "      <td>28.642668</td>\n",
       "      <td>28.642668</td>\n",
       "    </tr>\n",
       "  </tbody>\n",
       "</table>\n",
       "<p>3 rows × 29 columns</p>\n",
       "</div>"
      ],
      "text/plain": [
       "                  date  Appliances  lights     T1       RH_1    T2       RH_2  \\\n",
       "0  2016-01-11 17:00:00          60      30  19.89  47.596667  19.2  44.790000   \n",
       "1  2016-01-11 17:10:00          60      30  19.89  46.693333  19.2  44.722500   \n",
       "2  2016-01-11 17:20:00          50      30  19.89  46.300000  19.2  44.626667   \n",
       "\n",
       "      T3       RH_3         T4  ...         T9   RH_9     T_out  Press_mm_hg  \\\n",
       "0  19.79  44.730000  19.000000  ...  17.033333  45.53  6.600000        733.5   \n",
       "1  19.79  44.790000  19.000000  ...  17.066667  45.56  6.483333        733.6   \n",
       "2  19.79  44.933333  18.926667  ...  17.000000  45.50  6.366667        733.7   \n",
       "\n",
       "   RH_out  Windspeed  Visibility  Tdewpoint        rv1        rv2  \n",
       "0    92.0   7.000000   63.000000        5.3  13.275433  13.275433  \n",
       "1    92.0   6.666667   59.166667        5.2  18.606195  18.606195  \n",
       "2    92.0   6.333333   55.333333        5.1  28.642668  28.642668  \n",
       "\n",
       "[3 rows x 29 columns]"
      ]
     },
     "execution_count": 3,
     "metadata": {},
     "output_type": "execute_result"
    }
   ],
   "source": [
    "data.head(3)"
   ]
  },
  {
   "cell_type": "code",
   "execution_count": 4,
   "id": "46693886",
   "metadata": {},
   "outputs": [
    {
     "data": {
      "text/plain": [
       "0"
      ]
     },
     "execution_count": 4,
     "metadata": {},
     "output_type": "execute_result"
    }
   ],
   "source": [
    "data.isnull().sum().sum()"
   ]
  },
  {
   "cell_type": "markdown",
   "id": "124472f4",
   "metadata": {},
   "source": [
    "# Question 12"
   ]
  },
  {
   "cell_type": "raw",
   "id": "3eb54bf2",
   "metadata": {},
   "source": [
    "From the dataset, fit a linear model on the relationship between the temperature in the living room in Celsius (x = T2) and the temperature outside the building (y = T6). What is the R^2 value in two d.p.?"
   ]
  },
  {
   "cell_type": "code",
   "execution_count": 5,
   "id": "48183497",
   "metadata": {},
   "outputs": [],
   "source": [
    "x_Q12 = data['T2'].values.reshape(19735,1)\n",
    "y_Q12 = data['T6']"
   ]
  },
  {
   "cell_type": "code",
   "execution_count": 6,
   "id": "c8f9e9a5",
   "metadata": {},
   "outputs": [
    {
     "name": "stdout",
     "output_type": "stream",
     "text": [
      "R^2 : 0.64\n"
     ]
    }
   ],
   "source": [
    "model_Q12 = LinearRegression()\n",
    "model_Q12.fit(x_Q12,y_Q12)\n",
    "predictions_Q12 = model_Q12.predict(x_Q12)\n",
    "\n",
    "print(f'R^2 : {round(r2_score(y_Q12,predictions_Q12), 2)}')"
   ]
  },
  {
   "cell_type": "markdown",
   "id": "6db1c5aa",
   "metadata": {},
   "source": [
    "# Question 13"
   ]
  },
  {
   "cell_type": "raw",
   "id": "2d27acb8",
   "metadata": {},
   "source": [
    "Normalize the dataset using the MinMaxScaler after removing the following columns: [“date”, “lights”]. The target variable is “Appliances”. Use a 70-30 train-test set split with a random state of 42 (for reproducibility). Run a multiple linear regression using the training set and evaluate your model on the test set. Answer the following questions:\n",
    "\n",
    "What is the Mean Absolute Error (in two decimal places)?"
   ]
  },
  {
   "cell_type": "markdown",
   "id": "abdda0db",
   "metadata": {},
   "source": [
    "#### X and y data"
   ]
  },
  {
   "cell_type": "code",
   "execution_count": 7,
   "id": "dc4bb0a9",
   "metadata": {},
   "outputs": [],
   "source": [
    "x_Q13 = data.drop(['date', 'lights','Appliances'], axis = 1)\n",
    "y_Q13 = data['Appliances']"
   ]
  },
  {
   "cell_type": "markdown",
   "id": "47bf933d",
   "metadata": {},
   "source": [
    "#### Splitting dataset"
   ]
  },
  {
   "cell_type": "code",
   "execution_count": 8,
   "id": "235c469a",
   "metadata": {},
   "outputs": [],
   "source": [
    "x_train_Q13, x_test_Q13, y_train_Q13, y_test_Q13 = train_test_split(x_Q13, y_Q13, random_state= 42, test_size= 0.3)"
   ]
  },
  {
   "cell_type": "markdown",
   "id": "c3588b7d",
   "metadata": {},
   "source": [
    "#### MinMax Scaler"
   ]
  },
  {
   "cell_type": "code",
   "execution_count": 9,
   "id": "9b0e8812",
   "metadata": {},
   "outputs": [],
   "source": [
    "scaler = MinMaxScaler()\n",
    "scaler.fit(x_train_Q13)\n",
    "x_train_Q13 = scaler.transform(x_train_Q13)\n",
    "x_test_Q13 = scaler.transform(x_test_Q13)"
   ]
  },
  {
   "cell_type": "markdown",
   "id": "1ac9ce91",
   "metadata": {},
   "source": [
    "#### Model Building and Evaluation"
   ]
  },
  {
   "cell_type": "code",
   "execution_count": 10,
   "id": "c4b48f43",
   "metadata": {},
   "outputs": [
    {
     "name": "stdout",
     "output_type": "stream",
     "text": [
      "MAE : 53.65\n"
     ]
    }
   ],
   "source": [
    "model_Q13 = LinearRegression()\n",
    "model_Q13.fit(x_train_Q13,y_train_Q13)\n",
    "predictions_Q13 = model_Q13.predict(x_test_Q13)\n",
    "\n",
    "print(f'MAE : {round(mean_absolute_error(y_test_Q13,predictions_Q13),2)}')"
   ]
  },
  {
   "cell_type": "code",
   "execution_count": null,
   "id": "c08b3176",
   "metadata": {},
   "outputs": [],
   "source": []
  },
  {
   "cell_type": "markdown",
   "id": "3c3dd253",
   "metadata": {},
   "source": [
    "# Question 14"
   ]
  },
  {
   "cell_type": "raw",
   "id": "75bc0651",
   "metadata": {},
   "source": [
    "What is the Residual Sum of Squares (in two decimal places)?"
   ]
  },
  {
   "cell_type": "code",
   "execution_count": 12,
   "id": "fe909a43",
   "metadata": {},
   "outputs": [
    {
     "data": {
      "text/plain": [
       "8767.63"
      ]
     },
     "execution_count": 12,
     "metadata": {},
     "output_type": "execute_result"
    }
   ],
   "source": [
    "##Residual_Sum_of_Squares = RSS\n",
    "RSS = mean_squared_error(y_test_Q13,predictions_Q13)\n",
    "round(RSS,2)"
   ]
  },
  {
   "cell_type": "markdown",
   "id": "e81fef07",
   "metadata": {},
   "source": [
    "# Question 15"
   ]
  },
  {
   "cell_type": "raw",
   "id": "6429c3dd",
   "metadata": {},
   "source": [
    "What is the Root Mean Squared Error (in three decimal places)?"
   ]
  },
  {
   "cell_type": "code",
   "execution_count": 13,
   "id": "26069aae",
   "metadata": {},
   "outputs": [
    {
     "data": {
      "text/plain": [
       "93.64"
      ]
     },
     "execution_count": 13,
     "metadata": {},
     "output_type": "execute_result"
    }
   ],
   "source": [
    "## Root Mean Squared Error = RMSE\n",
    "RMSE = np.sqrt(mean_squared_error(y_test_Q13,predictions_Q13))\n",
    "round(RMSE,2)"
   ]
  },
  {
   "cell_type": "markdown",
   "id": "06242eff",
   "metadata": {},
   "source": [
    "# Question 16"
   ]
  },
  {
   "cell_type": "raw",
   "id": "0ca6375c",
   "metadata": {},
   "source": [
    "What is the Coefficient of Determination (in two decimal places)?"
   ]
  },
  {
   "cell_type": "code",
   "execution_count": 14,
   "id": "9858127b",
   "metadata": {},
   "outputs": [
    {
     "data": {
      "text/plain": [
       "0.15"
      ]
     },
     "execution_count": 14,
     "metadata": {},
     "output_type": "execute_result"
    }
   ],
   "source": [
    "## Coefficient of Determination = R_squared\n",
    "R_squared = r2_score(y_test_Q13,predictions_Q13)\n",
    "round(R_squared,2)"
   ]
  },
  {
   "cell_type": "markdown",
   "id": "40deb791",
   "metadata": {},
   "source": [
    "# Question 17"
   ]
  },
  {
   "cell_type": "raw",
   "id": "6a6e0e1a",
   "metadata": {},
   "source": [
    "Obtain the feature weights from your linear model above. Which features have the lowest and highest weights respectively?"
   ]
  },
  {
   "cell_type": "code",
   "execution_count": 15,
   "id": "3028e57c",
   "metadata": {},
   "outputs": [],
   "source": [
    "feat_weight = pd.DataFrame(model_Q13.coef_, index = x_Q13.columns, columns = ['Feature weights']).sort_values('Feature weights', ascending = False)"
   ]
  },
  {
   "cell_type": "code",
   "execution_count": 19,
   "id": "fccac687",
   "metadata": {},
   "outputs": [
    {
     "data": {
      "text/html": [
       "<div>\n",
       "<style scoped>\n",
       "    .dataframe tbody tr th:only-of-type {\n",
       "        vertical-align: middle;\n",
       "    }\n",
       "\n",
       "    .dataframe tbody tr th {\n",
       "        vertical-align: top;\n",
       "    }\n",
       "\n",
       "    .dataframe thead th {\n",
       "        text-align: right;\n",
       "    }\n",
       "</style>\n",
       "<table border=\"1\" class=\"dataframe\">\n",
       "  <thead>\n",
       "    <tr style=\"text-align: right;\">\n",
       "      <th></th>\n",
       "      <th>Feature weights</th>\n",
       "    </tr>\n",
       "  </thead>\n",
       "  <tbody>\n",
       "    <tr>\n",
       "      <th>rv2</th>\n",
       "      <td>4.510479e+14</td>\n",
       "    </tr>\n",
       "    <tr>\n",
       "      <th>RH_1</th>\n",
       "      <td>4.954925e+02</td>\n",
       "    </tr>\n",
       "  </tbody>\n",
       "</table>\n",
       "</div>"
      ],
      "text/plain": [
       "      Feature weights\n",
       "rv2      4.510479e+14\n",
       "RH_1     4.954925e+02"
      ]
     },
     "execution_count": 19,
     "metadata": {},
     "output_type": "execute_result"
    }
   ],
   "source": [
    "feat_weight.head(2)"
   ]
  },
  {
   "cell_type": "code",
   "execution_count": 20,
   "id": "72fe567c",
   "metadata": {},
   "outputs": [
    {
     "data": {
      "text/html": [
       "<div>\n",
       "<style scoped>\n",
       "    .dataframe tbody tr th:only-of-type {\n",
       "        vertical-align: middle;\n",
       "    }\n",
       "\n",
       "    .dataframe tbody tr th {\n",
       "        vertical-align: top;\n",
       "    }\n",
       "\n",
       "    .dataframe thead th {\n",
       "        text-align: right;\n",
       "    }\n",
       "</style>\n",
       "<table border=\"1\" class=\"dataframe\">\n",
       "  <thead>\n",
       "    <tr style=\"text-align: right;\">\n",
       "      <th></th>\n",
       "      <th>Feature weights</th>\n",
       "    </tr>\n",
       "  </thead>\n",
       "  <tbody>\n",
       "    <tr>\n",
       "      <th>RH_2</th>\n",
       "      <td>-4.697429e+02</td>\n",
       "    </tr>\n",
       "    <tr>\n",
       "      <th>rv1</th>\n",
       "      <td>-4.510479e+14</td>\n",
       "    </tr>\n",
       "  </tbody>\n",
       "</table>\n",
       "</div>"
      ],
      "text/plain": [
       "      Feature weights\n",
       "RH_2    -4.697429e+02\n",
       "rv1     -4.510479e+14"
      ]
     },
     "execution_count": 20,
     "metadata": {},
     "output_type": "execute_result"
    }
   ],
   "source": [
    "feat_weight.tail(2)"
   ]
  },
  {
   "cell_type": "markdown",
   "id": "2fd5c661",
   "metadata": {},
   "source": [
    "# Question 18"
   ]
  },
  {
   "cell_type": "raw",
   "id": "d347e924",
   "metadata": {},
   "source": [
    "Train a ridge regression model with an alpha value of 0.4. Is there any change to the root mean squared error (RMSE) when evaluated on the test set?"
   ]
  },
  {
   "cell_type": "markdown",
   "id": "59385999",
   "metadata": {},
   "source": [
    "#### Model Ridge"
   ]
  },
  {
   "cell_type": "code",
   "execution_count": 21,
   "id": "94df5fd8",
   "metadata": {},
   "outputs": [
    {
     "name": "stdout",
     "output_type": "stream",
     "text": [
      "RMSE : 93.66\n"
     ]
    }
   ],
   "source": [
    "model_Q18 = Ridge(alpha = 0.4)\n",
    "model_Q18.fit(x_train_Q13,y_train_Q13)\n",
    "predictions_Q18 = model_Q18.predict(x_test_Q13)\n",
    "\n",
    "print(f'RMSE : {round(np.sqrt(mean_squared_error(y_test_Q13,predictions_Q18)),2)}')"
   ]
  },
  {
   "cell_type": "markdown",
   "id": "52148087",
   "metadata": {},
   "source": [
    "# Question 19"
   ]
  },
  {
   "cell_type": "raw",
   "id": "cb79f3f8",
   "metadata": {},
   "source": [
    "Train a lasso regression model with an alpha value of 0.001 and obtain the new feature weights with it. How many of the features have non-zero feature weights?"
   ]
  },
  {
   "cell_type": "code",
   "execution_count": 22,
   "id": "3b9dc29a",
   "metadata": {},
   "outputs": [],
   "source": [
    "model_Q19 = Lasso(alpha = 0.001)\n",
    "model_Q19.fit(x_train_Q13,y_train_Q13)\n",
    "predictions_Q19 = model_Q19.predict(x_test_Q13)"
   ]
  },
  {
   "cell_type": "code",
   "execution_count": 23,
   "id": "b5f52c09",
   "metadata": {},
   "outputs": [],
   "source": [
    "feat_weight = pd.DataFrame(model_Q19.coef_, index = x_Q13.columns, columns = ['Feature weights']).sort_values('Feature weights', ascending = False)"
   ]
  },
  {
   "cell_type": "code",
   "execution_count": 24,
   "id": "ca7ca0f6",
   "metadata": {},
   "outputs": [
    {
     "data": {
      "text/plain": [
       "26"
      ]
     },
     "execution_count": 24,
     "metadata": {},
     "output_type": "execute_result"
    }
   ],
   "source": [
    "len(feat_weight)"
   ]
  },
  {
   "cell_type": "markdown",
   "id": "0c06371f",
   "metadata": {},
   "source": [
    "# Question 20"
   ]
  },
  {
   "cell_type": "raw",
   "id": "bb0b922c",
   "metadata": {},
   "source": [
    "What is the new RMSE with the lasso regression? (Answer should be in three (3) decimal places)"
   ]
  },
  {
   "cell_type": "code",
   "execution_count": 25,
   "id": "e8299ab3",
   "metadata": {},
   "outputs": [
    {
     "name": "stdout",
     "output_type": "stream",
     "text": [
      "Lasso RMSE : 93.64\n"
     ]
    }
   ],
   "source": [
    "print(f'Lasso RMSE : {round(np.sqrt(mean_squared_error(y_test_Q13,predictions_Q19)),2)}')"
   ]
  },
  {
   "cell_type": "code",
   "execution_count": null,
   "id": "260642df",
   "metadata": {},
   "outputs": [],
   "source": []
  }
 ],
 "metadata": {
  "kernelspec": {
   "display_name": "Python 3 (ipykernel)",
   "language": "python",
   "name": "python3"
  },
  "language_info": {
   "codemirror_mode": {
    "name": "ipython",
    "version": 3
   },
   "file_extension": ".py",
   "mimetype": "text/x-python",
   "name": "python",
   "nbconvert_exporter": "python",
   "pygments_lexer": "ipython3",
   "version": "3.8.8"
  }
 },
 "nbformat": 4,
 "nbformat_minor": 5
}
